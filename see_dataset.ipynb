{
 "cells": [
  {
   "cell_type": "code",
   "execution_count": 2,
   "metadata": {},
   "outputs": [
    {
     "ename": "TypeError",
     "evalue": "CustomDataset.__init__() got an unexpected keyword argument 'root_dir'",
     "output_type": "error",
     "traceback": [
      "\u001b[0;31m---------------------------------------------------------------------------\u001b[0m",
      "\u001b[0;31mTypeError\u001b[0m                                 Traceback (most recent call last)",
      "Cell \u001b[0;32mIn[2], line 7\u001b[0m\n\u001b[1;32m      4\u001b[0m \u001b[38;5;28;01mimport\u001b[39;00m \u001b[38;5;21;01mmatplotlib\u001b[39;00m\u001b[38;5;21;01m.\u001b[39;00m\u001b[38;5;21;01mpyplot\u001b[39;00m \u001b[38;5;28;01mas\u001b[39;00m \u001b[38;5;21;01mplt\u001b[39;00m\n\u001b[1;32m      6\u001b[0m \u001b[38;5;66;03m# Initialize the dataset\u001b[39;00m\n\u001b[0;32m----> 7\u001b[0m dataset \u001b[38;5;241m=\u001b[39m \u001b[43mCustomDataset\u001b[49m\u001b[43m(\u001b[49m\u001b[43mroot_dir\u001b[49m\u001b[38;5;241;43m=\u001b[39;49m\u001b[38;5;124;43m'\u001b[39;49m\u001b[38;5;124;43mwrist_tofc\u001b[39;49m\u001b[38;5;124;43m'\u001b[39;49m\u001b[43m)\u001b[49m  \u001b[38;5;66;03m# Replace with the actual path to your dataset\u001b[39;00m\n\u001b[1;32m      9\u001b[0m \u001b[38;5;66;03m# Create a DataLoader\u001b[39;00m\n\u001b[1;32m     10\u001b[0m dataloader \u001b[38;5;241m=\u001b[39m DataLoader(dataset, batch_size\u001b[38;5;241m=\u001b[39m\u001b[38;5;241m1\u001b[39m, shuffle\u001b[38;5;241m=\u001b[39m\u001b[38;5;28;01mTrue\u001b[39;00m)\n",
      "\u001b[0;31mTypeError\u001b[0m: CustomDataset.__init__() got an unexpected keyword argument 'root_dir'"
     ]
    }
   ],
   "source": [
    "import torch\n",
    "from torch.utils.data import DataLoader\n",
    "from dataset import CustomDataset\n",
    "import matplotlib.pyplot as plt\n",
    "import argparse\n",
    "\n",
    "parser = argparse.ArgumentParser()\n",
    "parser.add_argument(\"--data\", type=str,default = 'wrist_tofc')\n",
    "parser.add_argument(\"--save\", type=str,default = 'UNET_30_MSE_Results')\n",
    "parser.add_argument(\"--epochs\", type=int,default=30)\n",
    "parser.add_argument(\"--bs\", type=int,default=8)\n",
    "parser.add_argument(\"--lr\", type=float,default=1e-3)\n",
    "parser.add_argument(\"--run\", type=int,default=1)\n",
    "parser.add_argument(\"--num_workers\", type=int,default=1)\n",
    "parser.add_argument(\"--loss\", type=str, default= 'MSE')\n",
    "args = parser.parse_args([])  # This simulates no command-line arguments\n",
    "\n",
    "# Initialize the dataset\n",
    "dataset = CustomDataset(args.data)  # Replace with the actual path to your dataset\n",
    "\n",
    "# Create a DataLoader\n",
    "dataloader = DataLoader(dataset, batch_size=1, shuffle=True)\n",
    "\n",
    "# Get a sample from the dataset\n",
    "sample = next(iter(dataloader))\n",
    "\n",
    "# Print the shape of the input data\n",
    "print(f\"Input data shape: {sample['input'].shape}\")\n",
    "\n",
    "# Optionally, visualize a slice of the input data\n",
    "plt.figure(figsize=(10, 5))\n",
    "plt.imshow(sample['input'][0, 0, :, :].numpy(), cmap='gray')\n",
    "plt.title('Sample Input Slice')\n",
    "plt.colorbar()\n",
    "plt.show()\n",
    "\n",
    "# If there's a target/ground truth, you can also print its shape and visualize it\n",
    "if 'target' in sample:\n",
    "    print(f\"Target data shape: {sample['target'].shape}\")\n",
    "    \n",
    "    plt.figure(figsize=(10, 5))\n",
    "    plt.imshow(sample['target'][0, 0, :, :].numpy(), cmap='gray')\n",
    "    plt.title('Sample Target Slice')\n",
    "    plt.colorbar()\n",
    "    plt.show()\n"
   ]
  },
  {
   "cell_type": "code",
   "execution_count": null,
   "metadata": {},
   "outputs": [],
   "source": []
  }
 ],
 "metadata": {
  "kernelspec": {
   "display_name": "med_venv",
   "language": "python",
   "name": "python3"
  },
  "language_info": {
   "codemirror_mode": {
    "name": "ipython",
    "version": 3
   },
   "file_extension": ".py",
   "mimetype": "text/x-python",
   "name": "python",
   "nbconvert_exporter": "python",
   "pygments_lexer": "ipython3",
   "version": "3.11.5"
  }
 },
 "nbformat": 4,
 "nbformat_minor": 2
}
