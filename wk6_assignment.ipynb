{
 "cells": [
  {
   "cell_type": "markdown",
   "metadata": {},
   "source": [
    "## comparing the model via MSE and MAE on the testing split of the data \n"
   ]
  },
  {
   "cell_type": "code",
   "execution_count": 1,
   "metadata": {},
   "outputs": [
    {
     "name": "stderr",
     "output_type": "stream",
     "text": [
      "/home/jeremy/Documents/code/Medical_Image_Reconstruction/models/model_tools.py:20: FutureWarning: You are using `torch.load` with `weights_only=False` (the current default value), which uses the default pickle module implicitly. It is possible to construct malicious pickle data which will execute arbitrary code during unpickling (See https://github.com/pytorch/pytorch/blob/main/SECURITY.md#untrusted-models for more details). In a future release, the default value for `weights_only` will be flipped to `True`. This limits the functions that could be executed during unpickling. Arbitrary objects will no longer be allowed to be loaded via this mode unless they are explicitly allowlisted by the user via `torch.serialization.add_safe_globals`. We recommend you start setting `weights_only=True` for any use case where you don't have full control of the loaded file. Please open an issue on GitHub for any issues related to this experimental feature.\n",
      "  best_model.load_state_dict(torch.load(best_checkpoint_path))\n"
     ]
    },
    {
     "name": "stdout",
     "output_type": "stream",
     "text": [
      "Loaded best model from Results/UNET_30_MAE_Results/chkpt/iter_1/best.pt\n",
      "Loaded best model from Results/UNET_30_MSE_Results/chkpt/iter_1/best.pt\n",
      "Loaded best model from Results/TransformerCNN_30_MAE_Results/chkpt/iter_1/best.pt\n",
      "Loaded best model from Results/TransformerCNN_30_MSE_Results/chkpt/iter_1/best.pt\n"
     ]
    },
    {
     "name": "stderr",
     "output_type": "stream",
     "text": [
      "/home/jeremy/Documents/code/Medical_Image_Reconstruction/models/model_tools.py:49: FutureWarning: `torch.cuda.amp.autocast(args...)` is deprecated. Please use `torch.amp.autocast('cuda', args...)` instead.\n",
      "  with autocast():\n"
     ]
    },
    {
     "name": "stdout",
     "output_type": "stream",
     "text": [
      "                          MSE       MAE\n",
      "Model                                  \n",
      "UNET_MSE            55.826221  5.579086\n",
      "UNET_MAE            70.324293  6.453071\n",
      "TransformerCNN_MSE  57.217969  5.677939\n",
      "TransformerCNN_MAE  74.578333  6.660878\n"
     ]
    }
   ],
   "source": [
    "from models.model_tools import load_best_model, evaluate_models\n",
    "from models.unet_beamformer import UNetBeamformer\n",
    "from trainer.trainer import Trainer\n",
    "import torch\n",
    "import argparse\n",
    "from dataset import CustomDataset\n",
    "import pandas as pd\n",
    "import os\n",
    "from models.transformer_cnn import TransformerCNN\n",
    "from models.model_tools import get_best_checkpoint_path, load_best_model\n",
    "\n",
    "parser = argparse.ArgumentParser()\n",
    "parser.add_argument(\"--data\", type=str,default = 'wrist_tofc')\n",
    "parser.add_argument(\"--save\", type=str,default = 'comparison_results')\n",
    "parser.add_argument(\"--epochs\", type=int,default=30)\n",
    "parser.add_argument(\"--bs\", type=int,default=8)\n",
    "parser.add_argument(\"--lr\", type=float,default=1e-3)\n",
    "parser.add_argument(\"--run\", type=int,default=1)\n",
    "parser.add_argument(\"--num_workers\", type=int,default=1)\n",
    "parser.add_argument(\"--loss\", type=str, default= 'MAE')\n",
    "args = parser.parse_args([])\n",
    "\n",
    "device = \"cuda\" if torch.cuda.is_available() else \"cpu\"\n",
    "\n",
    "\n",
    "\n",
    "\n",
    "best_UNET_MSE = load_best_model(UNetBeamformer, 'Results/UNET_30_MAE_Results/chkpt/iter_1').to(device)\n",
    "best_UNET_MAE = load_best_model(UNetBeamformer, 'Results/UNET_30_MSE_Results/chkpt/iter_1').to(device)\n",
    "best_TransformerCNN_MSE = load_best_model(TransformerCNN, 'Results/TransformerCNN_30_MAE_Results/chkpt/iter_1').to(device)\n",
    "best_TransformerCNN_MAE = load_best_model(TransformerCNN, 'Results/TransformerCNN_30_MSE_Results/chkpt/iter_1').to(device)\n",
    "\n",
    "DATASET = CustomDataset(args.data)\n",
    "\n",
    "T = Trainer(TransformerCNN, DATASET, args)\n",
    "test_loader = T.valid_data\n",
    "test_set = T.valid_set\n",
    "\n",
    "UNET_MSE_mse_loss, UNET_MSE_mae_loss = evaluate_models(best_UNET_MSE, test_loader, test_set)\n",
    "UNET_MAE_mse_loss, UNET_MAE_mae_loss = evaluate_models(best_UNET_MAE, test_loader, test_set)\n",
    "TransformerCNN_MSE_mse_loss, TransformerCNN_MSE_mae_loss = evaluate_models(best_TransformerCNN_MSE, test_loader, test_set)\n",
    "TransformerCNN_MAE_mse_loss, TransformerCNN_MAE_mae_loss = evaluate_models(best_TransformerCNN_MAE, test_loader, test_set)\n",
    "\n",
    "# Create a DataFrame to store the results\n",
    "results_df = pd.DataFrame({\n",
    "    'Model': ['UNET_MSE', 'UNET_MAE', 'TransformerCNN_MSE', 'TransformerCNN_MAE'],\n",
    "    'MSE': [UNET_MSE_mse_loss, UNET_MAE_mse_loss, TransformerCNN_MSE_mse_loss, TransformerCNN_MAE_mse_loss],\n",
    "    'MAE': [UNET_MSE_mae_loss, UNET_MAE_mae_loss, TransformerCNN_MSE_mae_loss, TransformerCNN_MAE_mae_loss]\n",
    "})\n",
    "\n",
    "# Set 'Model' as the index for better readability\n",
    "results_df.set_index('Model', inplace=True)\n",
    "\n",
    "# Display the results\n",
    "print(results_df)\n"
   ]
  },
  {
   "cell_type": "code",
   "execution_count": 2,
   "metadata": {},
   "outputs": [
    {
     "data": {
      "text/html": [
       "<div>\n",
       "<style scoped>\n",
       "    .dataframe tbody tr th:only-of-type {\n",
       "        vertical-align: middle;\n",
       "    }\n",
       "\n",
       "    .dataframe tbody tr th {\n",
       "        vertical-align: top;\n",
       "    }\n",
       "\n",
       "    .dataframe thead th {\n",
       "        text-align: right;\n",
       "    }\n",
       "</style>\n",
       "<table border=\"1\" class=\"dataframe\">\n",
       "  <thead>\n",
       "    <tr style=\"text-align: right;\">\n",
       "      <th></th>\n",
       "      <th>MSE</th>\n",
       "      <th>MAE</th>\n",
       "    </tr>\n",
       "    <tr>\n",
       "      <th>Model</th>\n",
       "      <th></th>\n",
       "      <th></th>\n",
       "    </tr>\n",
       "  </thead>\n",
       "  <tbody>\n",
       "    <tr>\n",
       "      <th>UNET_MSE</th>\n",
       "      <td>55.826221</td>\n",
       "      <td>5.579086</td>\n",
       "    </tr>\n",
       "    <tr>\n",
       "      <th>UNET_MAE</th>\n",
       "      <td>70.324293</td>\n",
       "      <td>6.453071</td>\n",
       "    </tr>\n",
       "    <tr>\n",
       "      <th>TransformerCNN_MSE</th>\n",
       "      <td>57.217969</td>\n",
       "      <td>5.677939</td>\n",
       "    </tr>\n",
       "    <tr>\n",
       "      <th>TransformerCNN_MAE</th>\n",
       "      <td>74.578333</td>\n",
       "      <td>6.660878</td>\n",
       "    </tr>\n",
       "  </tbody>\n",
       "</table>\n",
       "</div>"
      ],
      "text/plain": [
       "                          MSE       MAE\n",
       "Model                                  \n",
       "UNET_MSE            55.826221  5.579086\n",
       "UNET_MAE            70.324293  6.453071\n",
       "TransformerCNN_MSE  57.217969  5.677939\n",
       "TransformerCNN_MAE  74.578333  6.660878"
      ]
     },
     "execution_count": 2,
     "metadata": {},
     "output_type": "execute_result"
    }
   ],
   "source": [
    "results_df"
   ]
  },
  {
   "cell_type": "code",
   "execution_count": 3,
   "metadata": {},
   "outputs": [
    {
     "name": "stdout",
     "output_type": "stream",
     "text": [
      "                             MSE       MAE\n",
      "Model                                     \n",
      "UNET_MSE               55.826221  5.579086\n",
      "UNET_MAE               70.324293  6.453071\n",
      "TransformerCNN_MSE     57.217969  5.677939\n",
      "TransformerCNN_MAE     74.578333  6.660878\n",
      "avg MSE_trained_model  56.522095  5.628512\n",
      "avg MAE_trained_model  72.451313  6.556975\n",
      "UNET_avg               63.075257  6.016079\n",
      "TransformerCNN_avg     65.898151  6.169408\n"
     ]
    }
   ],
   "source": [
    "# Calculate average for MSE-trained models\n",
    "mse_trained_avg = results_df.loc[['UNET_MSE', 'TransformerCNN_MSE']].mean()\n",
    "results_df.loc['avg MSE_trained_model'] = mse_trained_avg\n",
    "\n",
    "# Calculate average for MAE-trained models\n",
    "mae_trained_avg = results_df.loc[['UNET_MAE', 'TransformerCNN_MAE']].mean()\n",
    "results_df.loc['avg MAE_trained_model'] = mae_trained_avg\n",
    "\n",
    "# Calculate average for UNET models\n",
    "unet_avg = results_df.loc[['UNET_MSE', 'UNET_MAE']].mean()\n",
    "results_df.loc['UNET_avg'] = unet_avg\n",
    "\n",
    "# Calculate average for TransformerCNN models\n",
    "transformer_cnn_avg = results_df.loc[['TransformerCNN_MSE', 'TransformerCNN_MAE']].mean()\n",
    "results_df.loc['TransformerCNN_avg'] = transformer_cnn_avg\n",
    "\n",
    "# Display the updated results\n",
    "print(results_df)\n"
   ]
  },
  {
   "cell_type": "code",
   "execution_count": 4,
   "metadata": {},
   "outputs": [
    {
     "data": {
      "text/html": [
       "<div>\n",
       "<style scoped>\n",
       "    .dataframe tbody tr th:only-of-type {\n",
       "        vertical-align: middle;\n",
       "    }\n",
       "\n",
       "    .dataframe tbody tr th {\n",
       "        vertical-align: top;\n",
       "    }\n",
       "\n",
       "    .dataframe thead th {\n",
       "        text-align: right;\n",
       "    }\n",
       "</style>\n",
       "<table border=\"1\" class=\"dataframe\">\n",
       "  <thead>\n",
       "    <tr style=\"text-align: right;\">\n",
       "      <th></th>\n",
       "      <th>MSE</th>\n",
       "      <th>MAE</th>\n",
       "    </tr>\n",
       "    <tr>\n",
       "      <th>Model</th>\n",
       "      <th></th>\n",
       "      <th></th>\n",
       "    </tr>\n",
       "  </thead>\n",
       "  <tbody>\n",
       "    <tr>\n",
       "      <th>UNET_MSE</th>\n",
       "      <td>55.826221</td>\n",
       "      <td>5.579086</td>\n",
       "    </tr>\n",
       "    <tr>\n",
       "      <th>UNET_MAE</th>\n",
       "      <td>70.324293</td>\n",
       "      <td>6.453071</td>\n",
       "    </tr>\n",
       "    <tr>\n",
       "      <th>TransformerCNN_MSE</th>\n",
       "      <td>57.217969</td>\n",
       "      <td>5.677939</td>\n",
       "    </tr>\n",
       "    <tr>\n",
       "      <th>TransformerCNN_MAE</th>\n",
       "      <td>74.578333</td>\n",
       "      <td>6.660878</td>\n",
       "    </tr>\n",
       "    <tr>\n",
       "      <th>avg MSE_trained_model</th>\n",
       "      <td>56.522095</td>\n",
       "      <td>5.628512</td>\n",
       "    </tr>\n",
       "    <tr>\n",
       "      <th>avg MAE_trained_model</th>\n",
       "      <td>72.451313</td>\n",
       "      <td>6.556975</td>\n",
       "    </tr>\n",
       "    <tr>\n",
       "      <th>UNET_avg</th>\n",
       "      <td>63.075257</td>\n",
       "      <td>6.016079</td>\n",
       "    </tr>\n",
       "    <tr>\n",
       "      <th>TransformerCNN_avg</th>\n",
       "      <td>65.898151</td>\n",
       "      <td>6.169408</td>\n",
       "    </tr>\n",
       "  </tbody>\n",
       "</table>\n",
       "</div>"
      ],
      "text/plain": [
       "                             MSE       MAE\n",
       "Model                                     \n",
       "UNET_MSE               55.826221  5.579086\n",
       "UNET_MAE               70.324293  6.453071\n",
       "TransformerCNN_MSE     57.217969  5.677939\n",
       "TransformerCNN_MAE     74.578333  6.660878\n",
       "avg MSE_trained_model  56.522095  5.628512\n",
       "avg MAE_trained_model  72.451313  6.556975\n",
       "UNET_avg               63.075257  6.016079\n",
       "TransformerCNN_avg     65.898151  6.169408"
      ]
     },
     "execution_count": 4,
     "metadata": {},
     "output_type": "execute_result"
    }
   ],
   "source": [
    "results_df"
   ]
  },
  {
   "cell_type": "code",
   "execution_count": null,
   "metadata": {},
   "outputs": [],
   "source": []
  }
 ],
 "metadata": {
  "kernelspec": {
   "display_name": "med_venv",
   "language": "python",
   "name": "python3"
  },
  "language_info": {
   "codemirror_mode": {
    "name": "ipython",
    "version": 3
   },
   "file_extension": ".py",
   "mimetype": "text/x-python",
   "name": "python",
   "nbconvert_exporter": "python",
   "pygments_lexer": "ipython3",
   "version": "3.11.5"
  }
 },
 "nbformat": 4,
 "nbformat_minor": 2
}
